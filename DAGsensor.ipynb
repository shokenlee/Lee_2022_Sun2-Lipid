{
 "cells": [
  {
   "cell_type": "markdown",
   "id": "9d5acf2b-79eb-411c-b128-6183c4cc16e3",
   "metadata": {},
   "source": [
    "### **0. Setup**"
   ]
  },
  {
   "cell_type": "code",
   "execution_count": 23,
   "id": "87d3f732-3c87-43de-8661-f21f54fd27be",
   "metadata": {},
   "outputs": [],
   "source": [
    "import os, glob, warnings\n",
    "import numpy as np\n",
    "import pandas as pd\n",
    "import matplotlib as mpl\n",
    "import matplotlib.pyplot as plt\n",
    "import seaborn as sns\n",
    "\n",
    "from statsmodels.stats.multicomp import pairwise_tukeyhsd\n",
    "\n",
    "# ignore warnings\n",
    "warnings.filterwarnings('ignore')\n",
    "\n",
    "# plotting configuration\n",
    "font = {'family': 'Arial', 'size': 15}\n",
    "mpl.rc('font', **font)\n",
    "plt.rcParams['svg.fonttype'] = 'none'\n",
    "# my_pal = ['grey', 'mediumseagreen', 'dodgerblue']\n",
    "my_pal = ['grey', 'mediumseagreen', 'mediumblue']\n",
    "\n",
    "# set the directory where the data files are waiting\n",
    "directory = '/Users/ShokenLEE/Desktop/DATA/2022 1-3/3-5-22 P-191 2xT siCTDNEP1,siNEP1R1 Live/72 hr'"
   ]
  },
  {
   "cell_type": "markdown",
   "id": "4c3eed71-fe63-416d-b684-5f7dc298487d",
   "metadata": {},
   "source": [
    "### **1. Concanatate all the CSV files**"
   ]
  },
  {
   "cell_type": "code",
   "execution_count": 2,
   "id": "5b8331ab-45ce-46c5-9673-b06b89d17d87",
   "metadata": {},
   "outputs": [],
   "source": [
    "df = pd.DataFrame()\n",
    "\n",
    "filepaths = os.listdir(directory)\n",
    "for filepath in filepaths:\n",
    "    if filepath.endswith('csv'):\n",
    "        _df = pd.read_csv(directory + '/' + filepath)\n",
    "        df = pd.concat([df, _df], axis=0)"
   ]
  },
  {
   "cell_type": "code",
   "execution_count": 5,
   "id": "85151938-7dd7-4354-99ec-04fc8cf698b9",
   "metadata": {},
   "outputs": [],
   "source": [
    "df = df.reset_index()"
   ]
  },
  {
   "cell_type": "code",
   "execution_count": 8,
   "id": "8eb402de-56c3-431d-b093-8fe200dc963e",
   "metadata": {
    "tags": []
   },
   "outputs": [
    {
     "data": {
      "text/html": [
       "<div>\n",
       "<style scoped>\n",
       "    .dataframe tbody tr th:only-of-type {\n",
       "        vertical-align: middle;\n",
       "    }\n",
       "\n",
       "    .dataframe tbody tr th {\n",
       "        vertical-align: top;\n",
       "    }\n",
       "\n",
       "    .dataframe thead th {\n",
       "        text-align: right;\n",
       "    }\n",
       "</style>\n",
       "<table border=\"1\" class=\"dataframe\">\n",
       "  <thead>\n",
       "    <tr style=\"text-align: right;\">\n",
       "      <th></th>\n",
       "      <th>index</th>\n",
       "      <th></th>\n",
       "      <th>FileName</th>\n",
       "      <th>Mean_whole</th>\n",
       "      <th>Mean_internal</th>\n",
       "      <th>Mean_periphery</th>\n",
       "      <th>Ratio</th>\n",
       "    </tr>\n",
       "  </thead>\n",
       "  <tbody>\n",
       "    <tr>\n",
       "      <th>0</th>\n",
       "      <td>0</td>\n",
       "      <td>1</td>\n",
       "      <td>3-5-22 U2OS2xT#1 siCTDNEP1 71h 488mNG t1-001.nd2</td>\n",
       "      <td>144.742</td>\n",
       "      <td>33.597</td>\n",
       "      <td>39.716</td>\n",
       "      <td>1.182</td>\n",
       "    </tr>\n",
       "    <tr>\n",
       "      <th>1</th>\n",
       "      <td>1</td>\n",
       "      <td>2</td>\n",
       "      <td>3-5-22 U2OS2xT#1 siCTDNEP1 71h 488mNG t1-001.nd2</td>\n",
       "      <td>205.886</td>\n",
       "      <td>94.910</td>\n",
       "      <td>100.233</td>\n",
       "      <td>1.056</td>\n",
       "    </tr>\n",
       "    <tr>\n",
       "      <th>2</th>\n",
       "      <td>2</td>\n",
       "      <td>3</td>\n",
       "      <td>3-5-22 U2OS2xT#1 siCTDNEP1 71h 488mNG t1-001.nd2</td>\n",
       "      <td>179.097</td>\n",
       "      <td>64.375</td>\n",
       "      <td>92.735</td>\n",
       "      <td>1.441</td>\n",
       "    </tr>\n",
       "    <tr>\n",
       "      <th>3</th>\n",
       "      <td>3</td>\n",
       "      <td>4</td>\n",
       "      <td>3-5-22 U2OS2xT#1 siCTDNEP1 71h 488mNG t1-001.nd2</td>\n",
       "      <td>194.197</td>\n",
       "      <td>80.731</td>\n",
       "      <td>102.259</td>\n",
       "      <td>1.267</td>\n",
       "    </tr>\n",
       "    <tr>\n",
       "      <th>4</th>\n",
       "      <td>4</td>\n",
       "      <td>5</td>\n",
       "      <td>3-5-22 U2OS2xT#1 siCTDNEP1 71h 488mNG t1-001.nd2</td>\n",
       "      <td>145.783</td>\n",
       "      <td>34.679</td>\n",
       "      <td>40.954</td>\n",
       "      <td>1.181</td>\n",
       "    </tr>\n",
       "  </tbody>\n",
       "</table>\n",
       "</div>"
      ],
      "text/plain": [
       "   index                                             FileName  Mean_whole  \\\n",
       "0      0  1  3-5-22 U2OS2xT#1 siCTDNEP1 71h 488mNG t1-001.nd2     144.742   \n",
       "1      1  2  3-5-22 U2OS2xT#1 siCTDNEP1 71h 488mNG t1-001.nd2     205.886   \n",
       "2      2  3  3-5-22 U2OS2xT#1 siCTDNEP1 71h 488mNG t1-001.nd2     179.097   \n",
       "3      3  4  3-5-22 U2OS2xT#1 siCTDNEP1 71h 488mNG t1-001.nd2     194.197   \n",
       "4      4  5  3-5-22 U2OS2xT#1 siCTDNEP1 71h 488mNG t1-001.nd2     145.783   \n",
       "\n",
       "   Mean_internal  Mean_periphery  Ratio  \n",
       "0         33.597          39.716  1.182  \n",
       "1         94.910         100.233  1.056  \n",
       "2         64.375          92.735  1.441  \n",
       "3         80.731         102.259  1.267  \n",
       "4         34.679          40.954  1.181  "
      ]
     },
     "execution_count": 8,
     "metadata": {},
     "output_type": "execute_result"
    }
   ],
   "source": [
    "df.head()\n",
    "# df.tail()"
   ]
  },
  {
   "cell_type": "code",
   "execution_count": 7,
   "id": "160263da-cfc0-4fcc-8c26-195b70871e6d",
   "metadata": {},
   "outputs": [
    {
     "name": "stdout",
     "output_type": "stream",
     "text": [
      "<class 'pandas.core.frame.DataFrame'>\n",
      "RangeIndex: 273 entries, 0 to 272\n",
      "Data columns (total 7 columns):\n",
      " #   Column          Non-Null Count  Dtype  \n",
      "---  ------          --------------  -----  \n",
      " 0   index           273 non-null    int64  \n",
      " 1                   273 non-null    int64  \n",
      " 2   FileName        273 non-null    object \n",
      " 3   Mean_whole      273 non-null    float64\n",
      " 4   Mean_internal   273 non-null    float64\n",
      " 5   Mean_periphery  273 non-null    float64\n",
      " 6   Ratio           273 non-null    float64\n",
      "dtypes: float64(4), int64(2), object(1)\n",
      "memory usage: 15.1+ KB\n"
     ]
    }
   ],
   "source": [
    "df.info()"
   ]
  },
  {
   "cell_type": "markdown",
   "id": "619b3956-f98c-40e2-9ab2-ba388b78d473",
   "metadata": {},
   "source": [
    "### **2. Add columns**"
   ]
  },
  {
   "cell_type": "markdown",
   "id": "a5f8b436-68ab-428c-b98f-eddef47550e1",
   "metadata": {},
   "source": [
    "####  **siRNA**"
   ]
  },
  {
   "cell_type": "code",
   "execution_count": 9,
   "id": "7168e37a-78f7-4f6b-bc56-b5667c60f579",
   "metadata": {},
   "outputs": [],
   "source": [
    "df.loc[df['FileName'].str.contains('siCtrl'), 'siRNA'] = 'siCtrl'\n",
    "df.loc[df['FileName'].str.contains('CTDNEP1'), 'siRNA'] = 'siCTDNEP1'\n",
    "df.loc[df['FileName'].str.contains('NEP1R1'), 'siRNA'] = 'siNEP1R1'"
   ]
  },
  {
   "cell_type": "markdown",
   "id": "79b02e5c-2dbd-419b-95dc-801eedbdddd5",
   "metadata": {},
   "source": [
    "### **3. Cleaning**"
   ]
  },
  {
   "cell_type": "markdown",
   "id": "de3db112-8e19-429b-b9e1-b12583c565d7",
   "metadata": {},
   "source": [
    "####  **Drop zero value rows**"
   ]
  },
  {
   "cell_type": "code",
   "execution_count": 11,
   "id": "91fddf3a-5019-4fdb-98da-8236396e7fbf",
   "metadata": {},
   "outputs": [],
   "source": [
    "df_not_zero = df[df['Mean_whole'] !=0]"
   ]
  },
  {
   "cell_type": "code",
   "execution_count": 12,
   "id": "2f82da86-1e98-4da0-96a4-8505555db024",
   "metadata": {},
   "outputs": [
    {
     "name": "stdout",
     "output_type": "stream",
     "text": [
      "<class 'pandas.core.frame.DataFrame'>\n",
      "Int64Index: 244 entries, 0 to 272\n",
      "Data columns (total 8 columns):\n",
      " #   Column          Non-Null Count  Dtype  \n",
      "---  ------          --------------  -----  \n",
      " 0   index           244 non-null    int64  \n",
      " 1                   244 non-null    int64  \n",
      " 2   FileName        244 non-null    object \n",
      " 3   Mean_whole      244 non-null    float64\n",
      " 4   Mean_internal   244 non-null    float64\n",
      " 5   Mean_periphery  244 non-null    float64\n",
      " 6   Ratio           244 non-null    float64\n",
      " 7   siRNA           244 non-null    object \n",
      "dtypes: float64(4), int64(2), object(2)\n",
      "memory usage: 17.2+ KB\n"
     ]
    }
   ],
   "source": [
    "df_not_zero.info()"
   ]
  },
  {
   "cell_type": "markdown",
   "id": "ffaa4200-c130-4e11-afbe-9621207dd038",
   "metadata": {},
   "source": [
    "### **4. Analysis**"
   ]
  },
  {
   "cell_type": "markdown",
   "id": "ff1cf1db-75dd-4dac-9f3b-2b9de18f3865",
   "metadata": {},
   "source": [
    "#### **4-0. Quick check**"
   ]
  },
  {
   "cell_type": "code",
   "execution_count": 53,
   "id": "c5b4725f-9424-4e74-8536-e4ae9314cd86",
   "metadata": {},
   "outputs": [
    {
     "data": {
      "text/html": [
       "<div>\n",
       "<style scoped>\n",
       "    .dataframe tbody tr th:only-of-type {\n",
       "        vertical-align: middle;\n",
       "    }\n",
       "\n",
       "    .dataframe tbody tr th {\n",
       "        vertical-align: top;\n",
       "    }\n",
       "\n",
       "    .dataframe thead th {\n",
       "        text-align: right;\n",
       "    }\n",
       "</style>\n",
       "<table border=\"1\" class=\"dataframe\">\n",
       "  <thead>\n",
       "    <tr style=\"text-align: right;\">\n",
       "      <th></th>\n",
       "      <th>index</th>\n",
       "      <th></th>\n",
       "      <th>Mean_whole</th>\n",
       "      <th>Mean_internal</th>\n",
       "      <th>Mean_periphery</th>\n",
       "      <th>Ratio</th>\n",
       "    </tr>\n",
       "    <tr>\n",
       "      <th>siRNA</th>\n",
       "      <th></th>\n",
       "      <th></th>\n",
       "      <th></th>\n",
       "      <th></th>\n",
       "      <th></th>\n",
       "      <th></th>\n",
       "    </tr>\n",
       "  </thead>\n",
       "  <tbody>\n",
       "    <tr>\n",
       "      <th>siCTDNEP1</th>\n",
       "      <td>5.764706</td>\n",
       "      <td>6.764706</td>\n",
       "      <td>174.874363</td>\n",
       "      <td>62.239941</td>\n",
       "      <td>77.799353</td>\n",
       "      <td>1.300902</td>\n",
       "    </tr>\n",
       "    <tr>\n",
       "      <th>siCtrl</th>\n",
       "      <td>5.235955</td>\n",
       "      <td>6.235955</td>\n",
       "      <td>172.182607</td>\n",
       "      <td>53.809888</td>\n",
       "      <td>103.528416</td>\n",
       "      <td>1.731697</td>\n",
       "    </tr>\n",
       "    <tr>\n",
       "      <th>siNEP1R1</th>\n",
       "      <td>4.962264</td>\n",
       "      <td>5.962264</td>\n",
       "      <td>186.229774</td>\n",
       "      <td>69.647000</td>\n",
       "      <td>110.178868</td>\n",
       "      <td>1.588377</td>\n",
       "    </tr>\n",
       "  </tbody>\n",
       "</table>\n",
       "</div>"
      ],
      "text/plain": [
       "              index            Mean_whole  Mean_internal  Mean_periphery  \\\n",
       "siRNA                                                                      \n",
       "siCTDNEP1  5.764706  6.764706  174.874363      62.239941       77.799353   \n",
       "siCtrl     5.235955  6.235955  172.182607      53.809888      103.528416   \n",
       "siNEP1R1   4.962264  5.962264  186.229774      69.647000      110.178868   \n",
       "\n",
       "              Ratio  \n",
       "siRNA                \n",
       "siCTDNEP1  1.300902  \n",
       "siCtrl     1.731697  \n",
       "siNEP1R1   1.588377  "
      ]
     },
     "execution_count": 53,
     "metadata": {},
     "output_type": "execute_result"
    }
   ],
   "source": [
    "df_not_zero.groupby(['siRNA']).mean()"
   ]
  },
  {
   "cell_type": "code",
   "execution_count": 15,
   "id": "25fc2825-7842-4fd2-871d-cc2577312cda",
   "metadata": {},
   "outputs": [
    {
     "data": {
      "text/plain": [
       "Text(0.5, 1.0, 'Ratio of DAG sensor localization: Nuclear rim vs intra-nucleus')"
      ]
     },
     "execution_count": 15,
     "metadata": {},
     "output_type": "execute_result"
    },
    {
     "data": {
      "image/png": "[encoded data removed]",
      "text/plain": [
       "<Figure size 494.75x360 with 1 Axes>"
      ]
     },
     "metadata": {
      "needs_background": "light"
     },
     "output_type": "display_data"
    }
   ],
   "source": [
    "hist = sns.displot(data=df_not_zero, x='Ratio', hue='siRNA')\n",
    "plt.title('Ratio of DAG sensor localization: Nuclear rim vs intra-nucleus')"
   ]
  },
  {
   "cell_type": "markdown",
   "id": "98d97bf5-05af-4e80-a317-24867caf4e78",
   "metadata": {},
   "source": [
    "#### **4-1. Check cell counts per sample**"
   ]
  },
  {
   "cell_type": "code",
   "execution_count": 30,
   "id": "560eaed9-3c68-4e86-85ff-f38f9ea1b66f",
   "metadata": {},
   "outputs": [
    {
     "data": {
      "text/plain": [
       "[Text(0, 0, 'siCtrl'), Text(1, 0, 'siCTDNEP1'), Text(2, 0, 'siNEP1R1')]"
      ]
     },
     "execution_count": 30,
     "metadata": {},
     "output_type": "execute_result"
    },
    {
     "data": {
      "image/png": "[encoded data removed]",
      "text/plain": [
       "<Figure size 216x216 with 1 Axes>"
      ]
     },
     "metadata": {
      "needs_background": "light"
     },
     "output_type": "display_data"
    }
   ],
   "source": [
    "fig_width, fig_height = 3.0, 3.0\n",
    "fig = plt.figure(figsize=(fig_width,fig_height))\n",
    "# fig = plt.figure()\n",
    "ax_count = fig.add_axes([0.1, 0.1, 0.8, 0.8])\n",
    "\n",
    "ax_count = sns.countplot(data=df_not_zero, x='siRNA', order=['siCtrl', 'siCTDNEP1', 'siNEP1R1'], palette=my_pal)\n",
    "# plt.legend(bbox_to_anchor=(1.05, 1), loc='upper left', borderaxespad=0)\n",
    "plt.title('Number of cells')\n",
    "ax_count.set_xticklabels(labels=['siCtrl', 'siCTDNEP1', 'siNEP1R1'], rotation=45, ha='right')"
   ]
  },
  {
   "cell_type": "code",
   "execution_count": 22,
   "id": "f6ff948d-4dc6-4917-9c81-050b8b02c04b",
   "metadata": {},
   "outputs": [
    {
     "data": {
      "text/plain": [
       "siRNA\n",
       "siCTDNEP1    117\n",
       "siCtrl        93\n",
       "siNEP1R1      63\n",
       "dtype: int64"
      ]
     },
     "execution_count": 22,
     "metadata": {},
     "output_type": "execute_result"
    }
   ],
   "source": [
    "df.groupby(['siRNA']).size()"
   ]
  },
  {
   "cell_type": "markdown",
   "id": "ed493e16-6777-43fa-882c-1475f2661f7f",
   "metadata": {},
   "source": [
    "#### **4-2. Ratio of DAG sensor localization: rim vs inside nucleus**"
   ]
  },
  {
   "cell_type": "code",
   "execution_count": 44,
   "id": "468a8749-da6c-4140-82f2-eeec84db1431",
   "metadata": {
    "tags": []
   },
   "outputs": [
    {
     "data": {
      "text/plain": [
       "[Text(0, 0, 'siCtrl'), Text(1, 0, 'siCTDNEP1'), Text(2, 0, 'siNEP1R1')]"
      ]
     },
     "execution_count": 44,
     "metadata": {},
     "output_type": "execute_result"
    },
    {
     "data": {
      "image/png": "[encoded data removed]",
      "text/plain": [
       "<Figure size 252x252 with 1 Axes>"
      ]
     },
     "metadata": {
      "needs_background": "light"
     },
     "output_type": "display_data"
    }
   ],
   "source": [
    "fig = plt.figure(figsize=(3.5,3.5))\n",
    "ax_box = fig.add_axes([0.1, 0.1, 0.8, 0.8])\n",
    "\n",
    "ax_box = sns.boxplot(data=df_not_zero, x='siRNA', y='Ratio', order=['siCtrl', 'siCTDNEP1', 'siNEP1R1'], palette=my_pal)\n",
    "plt.title('Ratio of DAG sensor localization: rim vs inside nucleus')\n",
    "plt.ylabel('Ratio')\n",
    "ax_box.spines['top'].set_visible(False)\n",
    "ax_box.spines['right'].set_visible(False)\n",
    "ax_box.set_xticklabels(labels=['siCtrl', 'siCTDNEP1', 'siNEP1R1'], rotation=45, ha='right')"
   ]
  },
  {
   "cell_type": "code",
   "execution_count": 45,
   "id": "dcf6c445-a629-4018-b7e9-e55a7150fc46",
   "metadata": {},
   "outputs": [],
   "source": [
    "fig.savefig(directory + '/Ratio_box.jpg', bbox_inches='tight')"
   ]
  },
  {
   "cell_type": "code",
   "execution_count": 46,
   "id": "4eb5fed2-a3b4-4454-9adf-503204943ec8",
   "metadata": {
    "tags": []
   },
   "outputs": [
    {
     "data": {
      "text/plain": [
       "[Text(0, 0, 'siCtrl'), Text(1, 0, 'siCTDNEP1'), Text(2, 0, 'siNEP1R1')]"
      ]
     },
     "execution_count": 46,
     "metadata": {},
     "output_type": "execute_result"
    },
    {
     "data": {
      "image/png": "[encoded data removed]",
      "text/plain": [
       "<Figure size 252x252 with 1 Axes>"
      ]
     },
     "metadata": {
      "needs_background": "light"
     },
     "output_type": "display_data"
    }
   ],
   "source": [
    "fig = plt.figure(figsize=(3.5,3.5))\n",
    "ax_vio = fig.add_axes([0.1, 0.1, 0.8, 0.8])\n",
    "\n",
    "ax_vio = sns.violinplot(data=df_not_zero, x='siRNA', y='Ratio', order=['siCtrl', 'siCTDNEP1', 'siNEP1R1'], palette=my_pal)\n",
    "plt.title('Ratio of DAG sensor localization: rim vs inside nucleus')\n",
    "plt.ylabel('Ratio')\n",
    "ax_vio.spines['top'].set_visible(False)\n",
    "ax_vio.spines['right'].set_visible(False)\n",
    "ax_vio.set_xticklabels(labels=['siCtrl', 'siCTDNEP1', 'siNEP1R1'], rotation=45, ha='right')"
   ]
  },
  {
   "cell_type": "code",
   "execution_count": 47,
   "id": "687d2d8f-4569-4db7-9900-0b1878beed83",
   "metadata": {},
   "outputs": [],
   "source": [
    "fig.savefig(directory + '/Ratio_violin.jpg', bbox_inches='tight')"
   ]
  },
  {
   "cell_type": "markdown",
   "id": "f2eefc8e-235d-4cb1-91cc-f3a9698a85a3",
   "metadata": {},
   "source": [
    "#### **4-3. Overall mean intensity in nucleus**"
   ]
  },
  {
   "cell_type": "code",
   "execution_count": 48,
   "id": "28c4330d-7eac-4b85-8a2c-bb14061f4c01",
   "metadata": {
    "tags": []
   },
   "outputs": [
    {
     "data": {
      "text/plain": [
       "[Text(0, 0, 'siCtrl'), Text(1, 0, 'siCTDNEP1'), Text(2, 0, 'siNEP1R1')]"
      ]
     },
     "execution_count": 48,
     "metadata": {},
     "output_type": "execute_result"
    },
    {
     "data": {
      "image/png": "[encoded data removed]",
      "text/plain": [
       "<Figure size 252x252 with 1 Axes>"
      ]
     },
     "metadata": {
      "needs_background": "light"
     },
     "output_type": "display_data"
    }
   ],
   "source": [
    "fig = plt.figure(figsize=(3.5,3.5))\n",
    "ax_box = fig.add_axes([0.1, 0.1, 0.8, 0.8])\n",
    "\n",
    "ax_box = sns.boxplot(data=df_not_zero, x='siRNA', y='Mean_whole', order=['siCtrl', 'siCTDNEP1', 'siNEP1R1'], palette=my_pal)\n",
    "plt.title('DAG sensor mNG intensity in whole nucleus area')\n",
    "plt.ylabel('a.u.')\n",
    "ax_box.spines['top'].set_visible(False)\n",
    "ax_box.spines['right'].set_visible(False)\n",
    "ax_box.set_xticklabels(labels=['siCtrl', 'siCTDNEP1', 'siNEP1R1'], rotation=45, ha='right')"
   ]
  },
  {
   "cell_type": "code",
   "execution_count": 49,
   "id": "72fbdc68-3daf-4577-bb7a-dceceff713a5",
   "metadata": {},
   "outputs": [],
   "source": [
    "fig.savefig(directory + '/Mean_whole.jpg', bbox_inches='tight')"
   ]
  },
  {
   "cell_type": "markdown",
   "id": "8c07d20d-d2f9-414f-a8ff-15b837ad2738",
   "metadata": {},
   "source": [
    "#### **4-4. Correlation b/w whole mean intensity and ratio values**"
   ]
  },
  {
   "cell_type": "markdown",
   "id": "bf7f093b-ea55-4423-a564-3d38e9ae3582",
   "metadata": {},
   "source": [
    "#### Limited to those with mean_whole less than 300"
   ]
  },
  {
   "cell_type": "code",
   "execution_count": 39,
   "id": "9377260d-9ff6-46f4-8ece-665688b11756",
   "metadata": {},
   "outputs": [
    {
     "data": {
      "text/plain": [
       "(124.653, 300.0)"
      ]
     },
     "execution_count": 39,
     "metadata": {},
     "output_type": "execute_result"
    },
    {
     "data": {
      "image/png": "[encoded data removed]",
      "text/plain": [
       "<Figure size 360x360 with 1 Axes>"
      ]
     },
     "metadata": {
      "needs_background": "light"
     },
     "output_type": "display_data"
    }
   ],
   "source": [
    "scatter = sns.lmplot(x='Mean_whole', y='Ratio', data=df_not_zero, \n",
    "                     hue='siRNA', hue_order=['siCtrl', 'siCTDNEP1', 'siNEP1R1'], \n",
    "                     palette=my_pal, legend_out=False)\n",
    "min = np.min(df_not_zero['Mean_whole'])\n",
    "plt.xlim([min,300])"
   ]
  },
  {
   "cell_type": "code",
   "execution_count": 50,
   "id": "55f4ab3b-cff4-4d3f-bd13-b244fef72dac",
   "metadata": {},
   "outputs": [],
   "source": [
    "scatter.savefig(directory + '/Mean_vs_Ratio_scatter.jpg', bbox_inches='tight')"
   ]
  },
  {
   "cell_type": "markdown",
   "id": "de0a2b76-b2a7-419f-9c73-c14759328026",
   "metadata": {},
   "source": [
    "#### **4-5. Tukey test**"
   ]
  },
  {
   "cell_type": "code",
   "execution_count": 51,
   "id": "06d85258-eeeb-4d56-b007-17f7b2d755ae",
   "metadata": {},
   "outputs": [],
   "source": [
    "res = pairwise_tukeyhsd(df['Ratio'], df['siRNA'], alpha=0.05)"
   ]
  },
  {
   "cell_type": "code",
   "execution_count": 52,
   "id": "8156569c-11e1-4ce9-8b1e-027a99ee5ef3",
   "metadata": {},
   "outputs": [
    {
     "name": "stdout",
     "output_type": "stream",
     "text": [
      "   Multiple Comparison of Means - Tukey HSD, FWER=0.05   \n",
      "=========================================================\n",
      "  group1   group2  meandiff p-adj   lower   upper  reject\n",
      "---------------------------------------------------------\n",
      "siCTDNEP1   siCtrl   0.5231  0.001  0.3249  0.7213   True\n",
      "siCTDNEP1 siNEP1R1   0.2021 0.0846 -0.0209  0.4251  False\n",
      "   siCtrl siNEP1R1   -0.321 0.0037 -0.5538 -0.0881   True\n",
      "---------------------------------------------------------\n"
     ]
    }
   ],
   "source": [
    "print(res)"
   ]
  },
  {
   "cell_type": "code",
   "execution_count": null,
   "id": "b739baa0-281e-409a-a893-8f91644c3ebb",
   "metadata": {},
   "outputs": [],
   "source": []
  }
 ],
 "metadata": {
  "kernelspec": {
   "display_name": "Python 3",
   "language": "python",
   "name": "python3"
  },
  "language_info": {
   "codemirror_mode": {
    "name": "ipython",
    "version": 3
   },
   "file_extension": ".py",
   "mimetype": "text/x-python",
   "name": "python",
   "nbconvert_exporter": "python",
   "pygments_lexer": "ipython3",
   "version": "3.8.8"
  }
 },
 "nbformat": 4,
 "nbformat_minor": 5
}
