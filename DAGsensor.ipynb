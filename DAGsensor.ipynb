{
 "cells": [
  {
   "cell_type": "markdown",
   "id": "9d5acf2b-79eb-411c-b128-6183c4cc16e3",
   "metadata": {},
   "source": [
    "### **0. Setup**"
   ]
  },
  {
   "cell_type": "code",
   "execution_count": 1,
   "id": "87d3f732-3c87-43de-8661-f21f54fd27be",
   "metadata": {},
   "outputs": [],
   "source": [
    "import os, glob, warnings\n",
    "import numpy as np\n",
    "import pandas as pd\n",
    "import matplotlib as mpl\n",
    "import matplotlib.pyplot as plt\n",
    "import seaborn as sns\n",
    "\n",
    "from statsmodels.stats.multicomp import pairwise_tukeyhsd\n",
    "\n",
    "# ignore warnings\n",
    "warnings.filterwarnings('ignore')\n",
    "\n",
    "# plotting configuration\n",
    "font = {'family': 'Arial', 'size': 15}\n",
    "mpl.rc('font', **font)\n",
    "plt.rcParams['svg.fonttype'] = 'none'\n",
    "# my_pal = ['grey', 'mediumseagreen', 'dodgerblue']\n",
    "my_pal = ['grey', 'mediumseagreen', 'mediumblue']\n",
    "\n",
    "# set the directory where the data files are waiting\n",
    "directory = '/Users/ShokenLEE/Desktop/DATA/2022 1-3/3-16-22 P-193 2xT siCTDNEP1,siLpin1'"
   ]
  },
  {
   "cell_type": "markdown",
   "id": "4c3eed71-fe63-416d-b684-5f7dc298487d",
   "metadata": {},
   "source": [
    "### **1. Concanatate all the CSV files**"
   ]
  },
  {
   "cell_type": "code",
   "execution_count": 2,
   "id": "5b8331ab-45ce-46c5-9673-b06b89d17d87",
   "metadata": {},
   "outputs": [],
   "source": [
    "df = pd.DataFrame()\n",
    "\n",
    "filepaths = os.listdir(directory)\n",
    "for filepath in filepaths:\n",
    "    if filepath.endswith('csv'):\n",
    "        _df = pd.read_csv(directory + '/' + filepath)\n",
    "        df = pd.concat([df, _df], axis=0)"
   ]
  },
  {
   "cell_type": "code",
   "execution_count": 3,
   "id": "85151938-7dd7-4354-99ec-04fc8cf698b9",
   "metadata": {},
   "outputs": [],
   "source": [
    "df = df.reset_index()"
   ]
  },
  {
   "cell_type": "code",
   "execution_count": 4,
   "id": "8eb402de-56c3-431d-b093-8fe200dc963e",
   "metadata": {
    "tags": []
   },
   "outputs": [
    {
     "data": {
      "text/html": [
       "<div>\n",
       "<style scoped>\n",
       "    .dataframe tbody tr th:only-of-type {\n",
       "        vertical-align: middle;\n",
       "    }\n",
       "\n",
       "    .dataframe tbody tr th {\n",
       "        vertical-align: top;\n",
       "    }\n",
       "\n",
       "    .dataframe thead th {\n",
       "        text-align: right;\n",
       "    }\n",
       "</style>\n",
       "<table border=\"1\" class=\"dataframe\">\n",
       "  <thead>\n",
       "    <tr style=\"text-align: right;\">\n",
       "      <th></th>\n",
       "      <th>index</th>\n",
       "      <th></th>\n",
       "      <th>FileName</th>\n",
       "      <th>Mean_whole</th>\n",
       "      <th>Mean_internal</th>\n",
       "      <th>Mean_periphery</th>\n",
       "      <th>Ratio</th>\n",
       "    </tr>\n",
       "  </thead>\n",
       "  <tbody>\n",
       "    <tr>\n",
       "      <th>0</th>\n",
       "      <td>0</td>\n",
       "      <td>1</td>\n",
       "      <td>3-16-22 U2OS2xT#1 siCTDNEP1 71hr 488mNG t2-001...</td>\n",
       "      <td>190.272</td>\n",
       "      <td>73.289</td>\n",
       "      <td>111.343</td>\n",
       "      <td>1.519</td>\n",
       "    </tr>\n",
       "    <tr>\n",
       "      <th>1</th>\n",
       "      <td>1</td>\n",
       "      <td>2</td>\n",
       "      <td>3-16-22 U2OS2xT#1 siCTDNEP1 71hr 488mNG t2-001...</td>\n",
       "      <td>169.041</td>\n",
       "      <td>49.976</td>\n",
       "      <td>94.102</td>\n",
       "      <td>1.883</td>\n",
       "    </tr>\n",
       "    <tr>\n",
       "      <th>2</th>\n",
       "      <td>2</td>\n",
       "      <td>3</td>\n",
       "      <td>3-16-22 U2OS2xT#1 siCTDNEP1 71hr 488mNG t2-001...</td>\n",
       "      <td>148.036</td>\n",
       "      <td>33.183</td>\n",
       "      <td>53.383</td>\n",
       "      <td>1.609</td>\n",
       "    </tr>\n",
       "    <tr>\n",
       "      <th>3</th>\n",
       "      <td>3</td>\n",
       "      <td>4</td>\n",
       "      <td>3-16-22 U2OS2xT#1 siCTDNEP1 71hr 488mNG t2-001...</td>\n",
       "      <td>150.214</td>\n",
       "      <td>33.478</td>\n",
       "      <td>68.719</td>\n",
       "      <td>2.053</td>\n",
       "    </tr>\n",
       "    <tr>\n",
       "      <th>4</th>\n",
       "      <td>0</td>\n",
       "      <td>1</td>\n",
       "      <td>3-16-22 U2OS2xT#1 siCTDNEP1 71hr 488mNG t2-002...</td>\n",
       "      <td>184.088</td>\n",
       "      <td>70.935</td>\n",
       "      <td>87.074</td>\n",
       "      <td>1.228</td>\n",
       "    </tr>\n",
       "  </tbody>\n",
       "</table>\n",
       "</div>"
      ],
      "text/plain": [
       "   index                                              FileName  Mean_whole  \\\n",
       "0      0  1  3-16-22 U2OS2xT#1 siCTDNEP1 71hr 488mNG t2-001...     190.272   \n",
       "1      1  2  3-16-22 U2OS2xT#1 siCTDNEP1 71hr 488mNG t2-001...     169.041   \n",
       "2      2  3  3-16-22 U2OS2xT#1 siCTDNEP1 71hr 488mNG t2-001...     148.036   \n",
       "3      3  4  3-16-22 U2OS2xT#1 siCTDNEP1 71hr 488mNG t2-001...     150.214   \n",
       "4      0  1  3-16-22 U2OS2xT#1 siCTDNEP1 71hr 488mNG t2-002...     184.088   \n",
       "\n",
       "   Mean_internal  Mean_periphery  Ratio  \n",
       "0         73.289         111.343  1.519  \n",
       "1         49.976          94.102  1.883  \n",
       "2         33.183          53.383  1.609  \n",
       "3         33.478          68.719  2.053  \n",
       "4         70.935          87.074  1.228  "
      ]
     },
     "execution_count": 4,
     "metadata": {},
     "output_type": "execute_result"
    }
   ],
   "source": [
    "df.head()\n",
    "# df.tail()"
   ]
  },
  {
   "cell_type": "code",
   "execution_count": 5,
   "id": "160263da-cfc0-4fcc-8c26-195b70871e6d",
   "metadata": {},
   "outputs": [
    {
     "name": "stdout",
     "output_type": "stream",
     "text": [
      "<class 'pandas.core.frame.DataFrame'>\n",
      "RangeIndex: 211 entries, 0 to 210\n",
      "Data columns (total 7 columns):\n",
      " #   Column          Non-Null Count  Dtype  \n",
      "---  ------          --------------  -----  \n",
      " 0   index           211 non-null    int64  \n",
      " 1                   211 non-null    int64  \n",
      " 2   FileName        211 non-null    object \n",
      " 3   Mean_whole      211 non-null    float64\n",
      " 4   Mean_internal   211 non-null    float64\n",
      " 5   Mean_periphery  211 non-null    float64\n",
      " 6   Ratio           211 non-null    float64\n",
      "dtypes: float64(4), int64(2), object(1)\n",
      "memory usage: 11.7+ KB\n"
     ]
    }
   ],
   "source": [
    "df.info()"
   ]
  },
  {
   "cell_type": "markdown",
   "id": "619b3956-f98c-40e2-9ab2-ba388b78d473",
   "metadata": {},
   "source": [
    "### **2. Add columns**"
   ]
  },
  {
   "cell_type": "markdown",
   "id": "a5f8b436-68ab-428c-b98f-eddef47550e1",
   "metadata": {},
   "source": [
    "####  **siRNA**"
   ]
  },
  {
   "cell_type": "code",
   "execution_count": 6,
   "id": "7168e37a-78f7-4f6b-bc56-b5667c60f579",
   "metadata": {},
   "outputs": [],
   "source": [
    "df.loc[df['FileName'].str.contains('siCtrl'), 'siRNA'] = 'siCtrl'\n",
    "df.loc[df['FileName'].str.contains('CTDNEP1'), 'siRNA'] = 'siCTDNEP1'\n",
    "df.loc[df['FileName'].str.contains('Lpin1'), 'siRNA'] = 'siLpin1'"
   ]
  },
  {
   "cell_type": "markdown",
   "id": "79b02e5c-2dbd-419b-95dc-801eedbdddd5",
   "metadata": {},
   "source": [
    "### **3. Cleaning**"
   ]
  },
  {
   "cell_type": "markdown",
   "id": "de3db112-8e19-429b-b9e1-b12583c565d7",
   "metadata": {},
   "source": [
    "####  **Drop zero value rows**"
   ]
  },
  {
   "cell_type": "code",
   "execution_count": 7,
   "id": "91fddf3a-5019-4fdb-98da-8236396e7fbf",
   "metadata": {},
   "outputs": [],
   "source": [
    "df_not_zero = df[df['Mean_whole'] !=0]"
   ]
  },
  {
   "cell_type": "code",
   "execution_count": 8,
   "id": "2f82da86-1e98-4da0-96a4-8505555db024",
   "metadata": {},
   "outputs": [
    {
     "name": "stdout",
     "output_type": "stream",
     "text": [
      "<class 'pandas.core.frame.DataFrame'>\n",
      "Int64Index: 202 entries, 0 to 210\n",
      "Data columns (total 8 columns):\n",
      " #   Column          Non-Null Count  Dtype  \n",
      "---  ------          --------------  -----  \n",
      " 0   index           202 non-null    int64  \n",
      " 1                   202 non-null    int64  \n",
      " 2   FileName        202 non-null    object \n",
      " 3   Mean_whole      202 non-null    float64\n",
      " 4   Mean_internal   202 non-null    float64\n",
      " 5   Mean_periphery  202 non-null    float64\n",
      " 6   Ratio           202 non-null    float64\n",
      " 7   siRNA           202 non-null    object \n",
      "dtypes: float64(4), int64(2), object(2)\n",
      "memory usage: 14.2+ KB\n"
     ]
    }
   ],
   "source": [
    "df_not_zero.info()"
   ]
  },
  {
   "cell_type": "markdown",
   "id": "ffaa4200-c130-4e11-afbe-9621207dd038",
   "metadata": {},
   "source": [
    "### **4. Analysis**"
   ]
  },
  {
   "cell_type": "markdown",
   "id": "ff1cf1db-75dd-4dac-9f3b-2b9de18f3865",
   "metadata": {},
   "source": [
    "#### **4-0. Quick check**"
   ]
  },
  {
   "cell_type": "code",
   "execution_count": 9,
   "id": "c5b4725f-9424-4e74-8536-e4ae9314cd86",
   "metadata": {},
   "outputs": [
    {
     "data": {
      "text/html": [
       "<div>\n",
       "<style scoped>\n",
       "    .dataframe tbody tr th:only-of-type {\n",
       "        vertical-align: middle;\n",
       "    }\n",
       "\n",
       "    .dataframe tbody tr th {\n",
       "        vertical-align: top;\n",
       "    }\n",
       "\n",
       "    .dataframe thead th {\n",
       "        text-align: right;\n",
       "    }\n",
       "</style>\n",
       "<table border=\"1\" class=\"dataframe\">\n",
       "  <thead>\n",
       "    <tr style=\"text-align: right;\">\n",
       "      <th></th>\n",
       "      <th>index</th>\n",
       "      <th></th>\n",
       "      <th>Mean_whole</th>\n",
       "      <th>Mean_internal</th>\n",
       "      <th>Mean_periphery</th>\n",
       "      <th>Ratio</th>\n",
       "    </tr>\n",
       "    <tr>\n",
       "      <th>siRNA</th>\n",
       "      <th></th>\n",
       "      <th></th>\n",
       "      <th></th>\n",
       "      <th></th>\n",
       "      <th></th>\n",
       "      <th></th>\n",
       "    </tr>\n",
       "  </thead>\n",
       "  <tbody>\n",
       "    <tr>\n",
       "      <th>siCTDNEP1</th>\n",
       "      <td>2.092105</td>\n",
       "      <td>3.092105</td>\n",
       "      <td>194.252987</td>\n",
       "      <td>80.511645</td>\n",
       "      <td>100.269303</td>\n",
       "      <td>1.350816</td>\n",
       "    </tr>\n",
       "    <tr>\n",
       "      <th>siCtrl</th>\n",
       "      <td>4.253968</td>\n",
       "      <td>5.253968</td>\n",
       "      <td>163.460286</td>\n",
       "      <td>45.453079</td>\n",
       "      <td>93.332413</td>\n",
       "      <td>1.997540</td>\n",
       "    </tr>\n",
       "    <tr>\n",
       "      <th>siLpin1</th>\n",
       "      <td>4.126984</td>\n",
       "      <td>5.126984</td>\n",
       "      <td>160.114571</td>\n",
       "      <td>46.083762</td>\n",
       "      <td>69.106952</td>\n",
       "      <td>1.528778</td>\n",
       "    </tr>\n",
       "  </tbody>\n",
       "</table>\n",
       "</div>"
      ],
      "text/plain": [
       "              index            Mean_whole  Mean_internal  Mean_periphery  \\\n",
       "siRNA                                                                      \n",
       "siCTDNEP1  2.092105  3.092105  194.252987      80.511645      100.269303   \n",
       "siCtrl     4.253968  5.253968  163.460286      45.453079       93.332413   \n",
       "siLpin1    4.126984  5.126984  160.114571      46.083762       69.106952   \n",
       "\n",
       "              Ratio  \n",
       "siRNA                \n",
       "siCTDNEP1  1.350816  \n",
       "siCtrl     1.997540  \n",
       "siLpin1    1.528778  "
      ]
     },
     "execution_count": 9,
     "metadata": {},
     "output_type": "execute_result"
    }
   ],
   "source": [
    "df_not_zero.groupby(['siRNA']).mean()"
   ]
  },
  {
   "cell_type": "code",
   "execution_count": 13,
   "id": "25fc2825-7842-4fd2-871d-cc2577312cda",
   "metadata": {},
   "outputs": [
    {
     "data": {
      "text/plain": [
       "Text(0.5, 1.0, 'Ratio of DAG sensor localization: Nuclear rim vs intra-nucleus')"
      ]
     },
     "execution_count": 13,
     "metadata": {},
     "output_type": "execute_result"
    },
    {
     "data": {
      "image/png": "[encoded data removed]",
      "text/plain": [
       "<Figure size 494.75x360 with 1 Axes>"
      ]
     },
     "metadata": {
      "needs_background": "light"
     },
     "output_type": "display_data"
    }
   ],
   "source": [
    "hist = sns.displot(data=df_not_zero, x='Ratio', hue='siRNA', hue_order=['siCtrl', 'siCTDNEP1', 'siLpin1'], palette=my_pal)\n",
    "plt.title('Ratio of DAG sensor localization: Nuclear rim vs intra-nucleus')"
   ]
  },
  {
   "cell_type": "markdown",
   "id": "98d97bf5-05af-4e80-a317-24867caf4e78",
   "metadata": {},
   "source": [
    "#### **4-1. Check cell counts per sample**"
   ]
  },
  {
   "cell_type": "code",
   "execution_count": 14,
   "id": "560eaed9-3c68-4e86-85ff-f38f9ea1b66f",
   "metadata": {},
   "outputs": [
    {
     "data": {
      "text/plain": [
       "[Text(0, 0, 'siCtrl'), Text(1, 0, 'siCTDNEP1'), Text(2, 0, 'siLpin1')]"
      ]
     },
     "execution_count": 14,
     "metadata": {},
     "output_type": "execute_result"
    },
    {
     "data": {
      "image/png": "[encoded data removed]",
      "text/plain": [
       "<Figure size 216x216 with 1 Axes>"
      ]
     },
     "metadata": {
      "needs_background": "light"
     },
     "output_type": "display_data"
    }
   ],
   "source": [
    "fig_width, fig_height = 3.0, 3.0\n",
    "fig = plt.figure(figsize=(fig_width,fig_height))\n",
    "# fig = plt.figure()\n",
    "ax_count = fig.add_axes([0.1, 0.1, 0.8, 0.8])\n",
    "\n",
    "ax_count = sns.countplot(data=df_not_zero, x='siRNA', order=['siCtrl', 'siCTDNEP1', 'siLpin1'], palette=my_pal)\n",
    "# plt.legend(bbox_to_anchor=(1.05, 1), loc='upper left', borderaxespad=0)\n",
    "plt.title('Number of cells')\n",
    "ax_count.set_xticklabels(labels=['siCtrl', 'siCTDNEP1', 'siLpin1'], rotation=45, ha='right')"
   ]
  },
  {
   "cell_type": "code",
   "execution_count": 15,
   "id": "f6ff948d-4dc6-4917-9c81-050b8b02c04b",
   "metadata": {},
   "outputs": [
    {
     "data": {
      "text/plain": [
       "siRNA\n",
       "siCTDNEP1    85\n",
       "siCtrl       63\n",
       "siLpin1      63\n",
       "dtype: int64"
      ]
     },
     "execution_count": 15,
     "metadata": {},
     "output_type": "execute_result"
    }
   ],
   "source": [
    "df.groupby(['siRNA']).size()"
   ]
  },
  {
   "cell_type": "markdown",
   "id": "ed493e16-6777-43fa-882c-1475f2661f7f",
   "metadata": {},
   "source": [
    "#### **4-2. Ratio of DAG sensor localization: rim vs inside nucleus**"
   ]
  },
  {
   "cell_type": "code",
   "execution_count": 16,
   "id": "468a8749-da6c-4140-82f2-eeec84db1431",
   "metadata": {
    "tags": []
   },
   "outputs": [
    {
     "data": {
      "text/plain": [
       "[Text(0, 0, 'siCtrl'), Text(1, 0, 'siCTDNEP1'), Text(2, 0, 'siLpin1')]"
      ]
     },
     "execution_count": 16,
     "metadata": {},
     "output_type": "execute_result"
    },
    {
     "data": {
      "image/png": "[encoded data removed]",
      "text/plain": [
       "<Figure size 252x252 with 1 Axes>"
      ]
     },
     "metadata": {
      "needs_background": "light"
     },
     "output_type": "display_data"
    }
   ],
   "source": [
    "fig = plt.figure(figsize=(3.5,3.5))\n",
    "ax_box = fig.add_axes([0.1, 0.1, 0.8, 0.8])\n",
    "\n",
    "ax_box = sns.boxplot(data=df_not_zero, x='siRNA', y='Ratio', order=['siCtrl', 'siCTDNEP1', 'siLpin1'], palette=my_pal)\n",
    "plt.title('Ratio of DAG sensor localization: rim vs inside nucleus')\n",
    "plt.ylabel('Ratio')\n",
    "ax_box.spines['top'].set_visible(False)\n",
    "ax_box.spines['right'].set_visible(False)\n",
    "ax_box.set_xticklabels(labels=['siCtrl', 'siCTDNEP1', 'siLpin1'], rotation=45, ha='right')"
   ]
  },
  {
   "cell_type": "code",
   "execution_count": 17,
   "id": "dcf6c445-a629-4018-b7e9-e55a7150fc46",
   "metadata": {},
   "outputs": [],
   "source": [
    "fig.savefig(directory + '/Ratio_box.jpg', bbox_inches='tight')"
   ]
  },
  {
   "cell_type": "code",
   "execution_count": 19,
   "id": "4eb5fed2-a3b4-4454-9adf-503204943ec8",
   "metadata": {
    "tags": []
   },
   "outputs": [
    {
     "data": {
      "text/plain": [
       "[Text(0, 0, 'siCtrl'), Text(1, 0, 'siCTDNEP1'), Text(2, 0, 'siLpin1')]"
      ]
     },
     "execution_count": 19,
     "metadata": {},
     "output_type": "execute_result"
    },
    {
     "data": {
      "image/png": "[encoded data removed]",
      "text/plain": [
       "<Figure size 252x252 with 1 Axes>"
      ]
     },
     "metadata": {
      "needs_background": "light"
     },
     "output_type": "display_data"
    }
   ],
   "source": [
    "fig = plt.figure(figsize=(3.5,3.5))\n",
    "ax_vio = fig.add_axes([0.1, 0.1, 0.8, 0.8])\n",
    "\n",
    "ax_vio = sns.violinplot(data=df_not_zero, x='siRNA', y='Ratio', order=['siCtrl', 'siCTDNEP1', 'siLpin1'], palette=my_pal)\n",
    "plt.title('Ratio of DAG sensor localization: rim vs inside nucleus')\n",
    "plt.ylabel('Ratio')\n",
    "ax_vio.spines['top'].set_visible(False)\n",
    "ax_vio.spines['right'].set_visible(False)\n",
    "ax_vio.set_xticklabels(labels=['siCtrl', 'siCTDNEP1', 'siLpin1'], rotation=45, ha='right')"
   ]
  },
  {
   "cell_type": "code",
   "execution_count": 20,
   "id": "687d2d8f-4569-4db7-9900-0b1878beed83",
   "metadata": {},
   "outputs": [],
   "source": [
    "fig.savefig(directory + '/Ratio_violin.jpg', bbox_inches='tight')"
   ]
  },
  {
   "cell_type": "markdown",
   "id": "f2eefc8e-235d-4cb1-91cc-f3a9698a85a3",
   "metadata": {},
   "source": [
    "#### **4-3. Overall mean intensity in nucleus**"
   ]
  },
  {
   "cell_type": "code",
   "execution_count": 22,
   "id": "28c4330d-7eac-4b85-8a2c-bb14061f4c01",
   "metadata": {
    "tags": []
   },
   "outputs": [
    {
     "data": {
      "text/plain": [
       "[Text(0, 0, 'siCtrl'), Text(1, 0, 'siCTDNEP1'), Text(2, 0, 'siLpin1')]"
      ]
     },
     "execution_count": 22,
     "metadata": {},
     "output_type": "execute_result"
    },
    {
     "data": {
      "image/png": "[encoded data removed]",
      "text/plain": [
       "<Figure size 252x252 with 1 Axes>"
      ]
     },
     "metadata": {
      "needs_background": "light"
     },
     "output_type": "display_data"
    }
   ],
   "source": [
    "fig = plt.figure(figsize=(3.5,3.5))\n",
    "ax_box = fig.add_axes([0.1, 0.1, 0.8, 0.8])\n",
    "\n",
    "ax_box = sns.boxplot(data=df_not_zero, x='siRNA', y='Mean_whole', order=['siCtrl', 'siCTDNEP1', 'siLpin1'], palette=my_pal)\n",
    "plt.title('DAG sensor mNG intensity in whole nucleus area')\n",
    "plt.ylabel('a.u.')\n",
    "ax_box.spines['top'].set_visible(False)\n",
    "ax_box.spines['right'].set_visible(False)\n",
    "ax_box.set_xticklabels(labels=['siCtrl', 'siCTDNEP1', 'siLpin1'], rotation=45, ha='right')"
   ]
  },
  {
   "cell_type": "code",
   "execution_count": 23,
   "id": "72fbdc68-3daf-4577-bb7a-dceceff713a5",
   "metadata": {},
   "outputs": [],
   "source": [
    "fig.savefig(directory + '/Mean_whole.jpg', bbox_inches='tight')"
   ]
  },
  {
   "cell_type": "markdown",
   "id": "8c07d20d-d2f9-414f-a8ff-15b837ad2738",
   "metadata": {},
   "source": [
    "#### **4-4. Correlation b/w whole mean intensity and ratio values**"
   ]
  },
  {
   "cell_type": "markdown",
   "id": "bf7f093b-ea55-4423-a564-3d38e9ae3582",
   "metadata": {},
   "source": [
    "#### Limited to those with mean_whole less than 300"
   ]
  },
  {
   "cell_type": "code",
   "execution_count": 24,
   "id": "9377260d-9ff6-46f4-8ece-665688b11756",
   "metadata": {},
   "outputs": [
    {
     "data": {
      "text/plain": [
       "(125.752, 300.0)"
      ]
     },
     "execution_count": 24,
     "metadata": {},
     "output_type": "execute_result"
    },
    {
     "data": {
      "image/png": "[encoded data removed]",
      "text/plain": [
       "<Figure size 360x360 with 1 Axes>"
      ]
     },
     "metadata": {
      "needs_background": "light"
     },
     "output_type": "display_data"
    }
   ],
   "source": [
    "scatter = sns.lmplot(x='Mean_whole', y='Ratio', data=df_not_zero, \n",
    "                     hue='siRNA', hue_order=['siCtrl', 'siCTDNEP1', 'siLpin1'], \n",
    "                     palette=my_pal, legend_out=False)\n",
    "min = np.min(df_not_zero['Mean_whole'])\n",
    "plt.xlim([min,300])"
   ]
  },
  {
   "cell_type": "code",
   "execution_count": 25,
   "id": "55f4ab3b-cff4-4d3f-bd13-b244fef72dac",
   "metadata": {},
   "outputs": [],
   "source": [
    "scatter.savefig(directory + '/Mean_vs_Ratio_scatter.jpg', bbox_inches='tight')"
   ]
  },
  {
   "cell_type": "markdown",
   "id": "de0a2b76-b2a7-419f-9c73-c14759328026",
   "metadata": {},
   "source": [
    "#### **4-5. Tukey test**"
   ]
  },
  {
   "cell_type": "code",
   "execution_count": 26,
   "id": "06d85258-eeeb-4d56-b007-17f7b2d755ae",
   "metadata": {},
   "outputs": [],
   "source": [
    "res = pairwise_tukeyhsd(df['Ratio'], df['siRNA'], alpha=0.05)"
   ]
  },
  {
   "cell_type": "code",
   "execution_count": 27,
   "id": "8156569c-11e1-4ce9-8b1e-027a99ee5ef3",
   "metadata": {},
   "outputs": [
    {
     "name": "stdout",
     "output_type": "stream",
     "text": [
      "  Multiple Comparison of Means - Tukey HSD, FWER=0.05  \n",
      "=======================================================\n",
      "  group1   group2 meandiff p-adj  lower   upper  reject\n",
      "-------------------------------------------------------\n",
      "siCTDNEP1  siCtrl   0.7898 0.001  0.6046  0.9749   True\n",
      "siCTDNEP1 siLpin1    0.321 0.001  0.1358  0.5061   True\n",
      "   siCtrl siLpin1  -0.4688 0.001 -0.6672 -0.2703   True\n",
      "-------------------------------------------------------\n"
     ]
    }
   ],
   "source": [
    "print(res)"
   ]
  },
  {
   "cell_type": "code",
   "execution_count": null,
   "id": "b739baa0-281e-409a-a893-8f91644c3ebb",
   "metadata": {},
   "outputs": [],
   "source": []
  }
 ],
 "metadata": {
  "kernelspec": {
   "display_name": "Python 3",
   "language": "python",
   "name": "python3"
  },
  "language_info": {
   "codemirror_mode": {
    "name": "ipython",
    "version": 3
   },
   "file_extension": ".py",
   "mimetype": "text/x-python",
   "name": "python",
   "nbconvert_exporter": "python",
   "pygments_lexer": "ipython3",
   "version": "3.8.8"
  }
 },
 "nbformat": 4,
 "nbformat_minor": 5
}
