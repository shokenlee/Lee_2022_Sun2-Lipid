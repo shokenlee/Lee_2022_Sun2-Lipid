{
 "cells": [
  {
   "cell_type": "markdown",
   "id": "73750c06-da1c-47d8-a0e0-a6a0832920de",
   "metadata": {},
   "source": [
    "### **0. Setup**"
   ]
  },
  {
   "cell_type": "code",
   "execution_count": 1,
   "id": "c7278f4e-a7fa-4b94-9ba4-0d32a0df3895",
   "metadata": {},
   "outputs": [],
   "source": [
    "import os, glob, warnings\n",
    "import numpy as np\n",
    "import pandas as pd\n",
    "import matplotlib as mpl\n",
    "import matplotlib.pyplot as plt\n",
    "import seaborn as sns\n",
    "\n",
    "from statsmodels.stats.multicomp import pairwise_tukeyhsd\n",
    "\n",
    "# ignore warnings\n",
    "warnings.filterwarnings('ignore')\n",
    "\n",
    "# plotting configuration\n",
    "font = {'family': 'Arial', 'size': 15}\n",
    "mpl.rc('font', **font)\n",
    "plt.rcParams['svg.fonttype'] = 'none'\n",
    "\n",
    "# my_pal = ['grey', 'mediumseagreen']\n",
    "my_pal = ['grey', 'mediumseagreen', 'dodgerblue', 'darkviolet']\n",
    "\n",
    "# Make a folder if it not there yet and if needed\n",
    "# !mkdir ../jupyter_figures\n",
    "\n",
    "# set the directory where the data files are waiting\n",
    "directory = '/Users/ShokenLEE/Desktop/DATA/Common data spreadsheets/Sun2 intensity in nucleus/siCDS,siPIS/'"
   ]
  },
  {
   "cell_type": "markdown",
   "id": "ef34dd1c-122d-4a87-9b9b-2aa26fda4db1",
   "metadata": {},
   "source": [
    "### **1. Concanatate all the CSV files**"
   ]
  },
  {
   "cell_type": "code",
   "execution_count": 2,
   "id": "c920abd3-920d-4a3e-9b61-30dcd03b251e",
   "metadata": {},
   "outputs": [],
   "source": [
    "df = pd.DataFrame()\n",
    "\n",
    "for path, subdirs, files in os.walk(directory):\n",
    "    for file in files:\n",
    "        if file.endswith('csv'):\n",
    "            _df = pd.read_csv(os.path.join(path, file))\n",
    "            df = pd.concat([df, _df], axis=0)"
   ]
  },
  {
   "cell_type": "code",
   "execution_count": 3,
   "id": "04a459e4-222d-43c6-bc46-7a37a4da255b",
   "metadata": {
    "tags": []
   },
   "outputs": [
    {
     "data": {
      "text/html": [
       "<div>\n",
       "<style scoped>\n",
       "    .dataframe tbody tr th:only-of-type {\n",
       "        vertical-align: middle;\n",
       "    }\n",
       "\n",
       "    .dataframe tbody tr th {\n",
       "        vertical-align: top;\n",
       "    }\n",
       "\n",
       "    .dataframe thead th {\n",
       "        text-align: right;\n",
       "    }\n",
       "</style>\n",
       "<table border=\"1\" class=\"dataframe\">\n",
       "  <thead>\n",
       "    <tr style=\"text-align: right;\">\n",
       "      <th></th>\n",
       "      <th></th>\n",
       "      <th>Area</th>\n",
       "      <th>Mean</th>\n",
       "      <th>Circ.</th>\n",
       "      <th>AR</th>\n",
       "      <th>Round</th>\n",
       "      <th>Solidity</th>\n",
       "      <th>DAPI mean</th>\n",
       "      <th>File name</th>\n",
       "    </tr>\n",
       "  </thead>\n",
       "  <tbody>\n",
       "    <tr>\n",
       "      <th>0</th>\n",
       "      <td>1</td>\n",
       "      <td>225.773</td>\n",
       "      <td>3425.083</td>\n",
       "      <td>0.827</td>\n",
       "      <td>2.019</td>\n",
       "      <td>0.495</td>\n",
       "      <td>1.001</td>\n",
       "      <td>7442.291</td>\n",
       "      <td>3-29-22 U2OSKO siPIS 488LmnAC 561Sun2 t2-001.nd2</td>\n",
       "    </tr>\n",
       "    <tr>\n",
       "      <th>1</th>\n",
       "      <td>2</td>\n",
       "      <td>27.875</td>\n",
       "      <td>5151.773</td>\n",
       "      <td>0.892</td>\n",
       "      <td>1.619</td>\n",
       "      <td>0.618</td>\n",
       "      <td>1.002</td>\n",
       "      <td>17950.240</td>\n",
       "      <td>3-29-22 U2OSKO siPIS 488LmnAC 561Sun2 t2-001.nd2</td>\n",
       "    </tr>\n",
       "    <tr>\n",
       "      <th>2</th>\n",
       "      <td>3</td>\n",
       "      <td>97.354</td>\n",
       "      <td>2831.199</td>\n",
       "      <td>0.827</td>\n",
       "      <td>1.959</td>\n",
       "      <td>0.510</td>\n",
       "      <td>0.997</td>\n",
       "      <td>6225.849</td>\n",
       "      <td>3-29-22 U2OSKO siPIS 488LmnAC 561Sun2 t2-001.nd2</td>\n",
       "    </tr>\n",
       "    <tr>\n",
       "      <th>3</th>\n",
       "      <td>4</td>\n",
       "      <td>137.988</td>\n",
       "      <td>3007.911</td>\n",
       "      <td>0.858</td>\n",
       "      <td>1.235</td>\n",
       "      <td>0.810</td>\n",
       "      <td>0.979</td>\n",
       "      <td>6380.111</td>\n",
       "      <td>3-29-22 U2OSKO siPIS 488LmnAC 561Sun2 t2-001.nd2</td>\n",
       "    </tr>\n",
       "    <tr>\n",
       "      <th>4</th>\n",
       "      <td>5</td>\n",
       "      <td>216.343</td>\n",
       "      <td>3116.814</td>\n",
       "      <td>0.825</td>\n",
       "      <td>2.038</td>\n",
       "      <td>0.491</td>\n",
       "      <td>0.998</td>\n",
       "      <td>7252.453</td>\n",
       "      <td>3-29-22 U2OSKO siPIS 488LmnAC 561Sun2 t2-001.nd2</td>\n",
       "    </tr>\n",
       "  </tbody>\n",
       "</table>\n",
       "</div>"
      ],
      "text/plain": [
       "         Area      Mean  Circ.     AR  Round  Solidity  DAPI mean  \\\n",
       "0  1  225.773  3425.083  0.827  2.019  0.495     1.001   7442.291   \n",
       "1  2   27.875  5151.773  0.892  1.619  0.618     1.002  17950.240   \n",
       "2  3   97.354  2831.199  0.827  1.959  0.510     0.997   6225.849   \n",
       "3  4  137.988  3007.911  0.858  1.235  0.810     0.979   6380.111   \n",
       "4  5  216.343  3116.814  0.825  2.038  0.491     0.998   7252.453   \n",
       "\n",
       "                                          File name  \n",
       "0  3-29-22 U2OSKO siPIS 488LmnAC 561Sun2 t2-001.nd2  \n",
       "1  3-29-22 U2OSKO siPIS 488LmnAC 561Sun2 t2-001.nd2  \n",
       "2  3-29-22 U2OSKO siPIS 488LmnAC 561Sun2 t2-001.nd2  \n",
       "3  3-29-22 U2OSKO siPIS 488LmnAC 561Sun2 t2-001.nd2  \n",
       "4  3-29-22 U2OSKO siPIS 488LmnAC 561Sun2 t2-001.nd2  "
      ]
     },
     "execution_count": 3,
     "metadata": {},
     "output_type": "execute_result"
    }
   ],
   "source": [
    "df.head()"
   ]
  },
  {
   "cell_type": "code",
   "execution_count": 5,
   "id": "2f673395-5d4b-48cf-b24f-f64dc4b41862",
   "metadata": {
    "collapsed": true,
    "jupyter": {
     "outputs_hidden": true
    },
    "tags": []
   },
   "outputs": [
    {
     "name": "stdout",
     "output_type": "stream",
     "text": [
      "<class 'pandas.core.frame.DataFrame'>\n",
      "Int64Index: 888 entries, 0 to 16\n",
      "Data columns (total 9 columns):\n",
      " #   Column     Non-Null Count  Dtype  \n",
      "---  ------     --------------  -----  \n",
      " 0              888 non-null    int64  \n",
      " 1   Area       888 non-null    float64\n",
      " 2   Mean       888 non-null    float64\n",
      " 3   Circ.      888 non-null    float64\n",
      " 4   AR         888 non-null    float64\n",
      " 5   Round      888 non-null    float64\n",
      " 6   Solidity   888 non-null    float64\n",
      " 7   DAPI mean  888 non-null    float64\n",
      " 8   File name  888 non-null    object \n",
      "dtypes: float64(7), int64(1), object(1)\n",
      "memory usage: 69.4+ KB\n"
     ]
    }
   ],
   "source": [
    "df.info()"
   ]
  },
  {
   "cell_type": "markdown",
   "id": "df0023e2-83ea-4e16-9256-51f1ac7c094d",
   "metadata": {},
   "source": [
    "#### Check the number of files"
   ]
  },
  {
   "cell_type": "code",
   "execution_count": 4,
   "id": "dfc440aa-b713-4ae8-8422-20165f467a29",
   "metadata": {},
   "outputs": [
    {
     "name": "stdout",
     "output_type": "stream",
     "text": [
      "56\n"
     ]
    }
   ],
   "source": [
    "files = df['File name'].unique()\n",
    "print(len(files))"
   ]
  },
  {
   "cell_type": "markdown",
   "id": "c6ef7af8-c9b5-43c7-ba46-7c08f433592e",
   "metadata": {},
   "source": [
    "### **2. Add columns**"
   ]
  },
  {
   "cell_type": "markdown",
   "id": "45ea2bf5-1d22-40dc-95bf-29796721fd0a",
   "metadata": {},
   "source": [
    "####  **Cell_type**"
   ]
  },
  {
   "cell_type": "code",
   "execution_count": 5,
   "id": "92b83113-b596-4455-9475-d46cccd6bbbc",
   "metadata": {},
   "outputs": [],
   "source": [
    "df.loc[df['File name'].str.contains('ctrl'), 'Cell type'] = 'Control'\n",
    "df.loc[df['File name'].str.contains('KO'), 'Cell type'] = 'CTDNEP1 KO'"
   ]
  },
  {
   "cell_type": "markdown",
   "id": "4357c4c0-9dcc-4f2c-9fb6-7b76244956d7",
   "metadata": {},
   "source": [
    "#### **siRNA type**"
   ]
  },
  {
   "cell_type": "code",
   "execution_count": 6,
   "id": "23bc0d9f-9614-42e0-9499-c2219ac59d97",
   "metadata": {},
   "outputs": [],
   "source": [
    "df.loc[df['File name'].str.contains('siCtrl'), 'siRNA type'] = 'siCtrl'\n",
    "df.loc[df['File name'].str.contains('siCDS1'), 'siRNA type'] = 'siCDS1'\n",
    "df.loc[df['File name'].str.contains('siCDS2'), 'siRNA type'] = 'siCDS2'\n",
    "df.loc[df['File name'].str.contains('siPIS'), 'siRNA type'] = 'siPIS'"
   ]
  },
  {
   "cell_type": "markdown",
   "id": "adf47625-b7ee-41c8-898f-deb513addcd2",
   "metadata": {},
   "source": [
    "#### **Plasmid type**"
   ]
  },
  {
   "cell_type": "code",
   "execution_count": 7,
   "id": "1895c211-7058-4529-b1d5-4abb53152c2d",
   "metadata": {},
   "outputs": [],
   "source": [
    "df.loc[df['File name'].str.contains('WT'), 'Plasmid type'] = 'WT'\n",
    "df.loc[df['File name'].str.contains('DE'), 'Plasmid type'] = 'DE'"
   ]
  },
  {
   "cell_type": "markdown",
   "id": "4a085d92-8827-402e-8eb0-c884c9ac0448",
   "metadata": {},
   "source": [
    "#### **Image number**"
   ]
  },
  {
   "cell_type": "code",
   "execution_count": 7,
   "id": "7aa64759-0c6e-4f2e-b7c6-fbb01b09bf0b",
   "metadata": {},
   "outputs": [],
   "source": [
    "df['Image number'] = df['File name'].str[-7:-4]"
   ]
  },
  {
   "cell_type": "markdown",
   "id": "32a7e0eb-3fbe-4f4f-a7cc-be04c4070587",
   "metadata": {},
   "source": [
    "##### Check the number is correctly extracted"
   ]
  },
  {
   "cell_type": "code",
   "execution_count": 8,
   "id": "aba1cf2e-e0d3-4bf9-b8ec-eb5460411f8f",
   "metadata": {},
   "outputs": [
    {
     "name": "stdout",
     "output_type": "stream",
     "text": [
      "002\n"
     ]
    }
   ],
   "source": [
    "print(list(df['Image number'].unique())[1])"
   ]
  },
  {
   "cell_type": "markdown",
   "id": "1cb1606a-c024-4415-85fd-430e633881db",
   "metadata": {},
   "source": [
    "#### **Tag expression**"
   ]
  },
  {
   "cell_type": "markdown",
   "id": "9294e3f4-0c44-4d0e-b62f-cb63b30d2d18",
   "metadata": {},
   "source": [
    "##### **Check Tag intensity**"
   ]
  },
  {
   "cell_type": "code",
   "execution_count": 11,
   "id": "e2943f26-6d9e-41d5-99fa-dcc9d5f15ddb",
   "metadata": {
    "collapsed": true,
    "jupyter": {
     "outputs_hidden": true
    },
    "tags": []
   },
   "outputs": [
    {
     "data": {
      "text/plain": [
       "(1000.0, 4000.0)"
      ]
     },
     "execution_count": 11,
     "metadata": {},
     "output_type": "execute_result"
    },
    {
     "data": {
      "image/png": "[encoded data removed]",
      "text/plain": [
       "<Figure size 458x360 with 1 Axes>"
      ]
     },
     "metadata": {
      "needs_background": "light"
     },
     "output_type": "display_data"
    }
   ],
   "source": [
    "hist = sns.displot(data=df, x='Tag mean', hue='Plasmid type', hue_order=['WT', 'DE'], binwidth=50)\n",
    "plt.xlim([1000,4000])"
   ]
  },
  {
   "cell_type": "markdown",
   "id": "b5eaec62-beb4-436c-9813-db611a3c89a2",
   "metadata": {},
   "source": [
    "##### **Determine expression (+) or (-) by a threshold**"
   ]
  },
  {
   "cell_type": "code",
   "execution_count": 11,
   "id": "191d57de-ac4c-42ad-9e38-6d8c5e14d089",
   "metadata": {},
   "outputs": [],
   "source": [
    "# Set the threshold\n",
    "min_tag_intensity = 3200\n",
    "\n",
    "# Sort Tag mean based on the threshold\n",
    "df['Tag expression'] = df.apply(lambda x: '(+)' if x['Tag mean'] > min_tag_intensity else '(-)', axis=1)"
   ]
  },
  {
   "cell_type": "markdown",
   "id": "15d48ed4-e28c-4d61-8b13-4eafa51c05bc",
   "metadata": {},
   "source": [
    "#### **C3 channel intensity (background subtracted)**"
   ]
  },
  {
   "cell_type": "markdown",
   "id": "a35e3b40-362f-4696-953b-2cd7917190be",
   "metadata": {},
   "source": [
    "##### **C3 distribution**"
   ]
  },
  {
   "cell_type": "code",
   "execution_count": 12,
   "id": "983b8032-c7e3-4eb3-8525-5f107cf185fb",
   "metadata": {},
   "outputs": [
    {
     "data": {
      "image/png": "[encoded data removed]",
      "text/plain": [
       "<Figure size 824.875x360 with 2 Axes>"
      ]
     },
     "metadata": {
      "needs_background": "light"
     },
     "output_type": "display_data"
    }
   ],
   "source": [
    "# hist = sns.displot(x='Mean', data=df, hue='Tag expression', binwidth=500)\n",
    "hist = sns.displot(x='Mean', data=df, col='Cell type', hue='siRNA type', hue_order=['siCtrl', 'siCDS1', 'siCDS2', 'siPIS'], palette=my_pal, binwidth=500)"
   ]
  },
  {
   "cell_type": "code",
   "execution_count": 13,
   "id": "962adb5a-a3f1-4ae7-a647-6434b7db005c",
   "metadata": {},
   "outputs": [
    {
     "data": {
      "text/plain": [
       "Cell type   siRNA type\n",
       "CTDNEP1 KO  siCDS1        2288.219\n",
       "            siCDS2        2310.029\n",
       "            siCtrl        2195.403\n",
       "            siPIS         2343.428\n",
       "Control     siCDS1        2983.488\n",
       "            siCDS2        2818.070\n",
       "            siCtrl        2720.038\n",
       "            siPIS         2401.668\n",
       "Name: Mean, dtype: float64"
      ]
     },
     "execution_count": 13,
     "metadata": {},
     "output_type": "execute_result"
    }
   ],
   "source": [
    "# df.groupby('Tag expression')['Mean'].min()\n",
    "df.groupby(['Cell type', 'siRNA type'])['Mean'].min()"
   ]
  },
  {
   "cell_type": "markdown",
   "id": "2ee0eb21-cf69-4fdd-b7da-b68b83317acb",
   "metadata": {},
   "source": [
    "##### **Background subtraction from C3 intensity value**"
   ]
  },
  {
   "cell_type": "code",
   "execution_count": 14,
   "id": "1eb2fe11-1fb5-4234-8546-a8914f0b010f",
   "metadata": {},
   "outputs": [],
   "source": [
    "background_C3 = 2000\n",
    "\n",
    "df['C3 mean - background'] = df['Mean'] - background_C3"
   ]
  },
  {
   "cell_type": "markdown",
   "id": "59645dc8-7ec7-480b-8bbe-3ea059ba7df9",
   "metadata": {},
   "source": [
    "#### **Normalized C3 channel intensity (background subtracted)**"
   ]
  },
  {
   "cell_type": "code",
   "execution_count": 16,
   "id": "0a38f17d-6f9a-4ba5-b265-f75d5b1e30d7",
   "metadata": {},
   "outputs": [],
   "source": [
    "# set the baseline, which is either siCtrl for control cells or plasmid (-) cells\n",
    "# C3_mean_baseline = np.mean(df[df['Tag expression']=='(-)']['C3 mean - background'])\n",
    "C3_mean_baseline = np.mean(df[(df['Cell type'] == 'Control') & (df['siRNA type'] == 'siCtrl')]['C3 mean - background'])\n",
    "\n",
    "# then normalize\n",
    "df['C3-Back_normalized'] = df['C3 mean - background'] / C3_mean_baseline"
   ]
  },
  {
   "cell_type": "markdown",
   "id": "18d1fb75-0039-4073-9ad6-4062469a4343",
   "metadata": {},
   "source": [
    "#### **ROI number**"
   ]
  },
  {
   "cell_type": "code",
   "execution_count": 17,
   "id": "c16f2b13-0e8b-481a-88a7-a722319fbd64",
   "metadata": {},
   "outputs": [],
   "source": [
    "df = df.rename(columns={' ': 'ROI number'})"
   ]
  },
  {
   "cell_type": "markdown",
   "id": "6282b7ed-4936-4673-bcc1-8102eb4e729a",
   "metadata": {},
   "source": [
    "#### **Sample type (for Tukey test)**"
   ]
  },
  {
   "cell_type": "code",
   "execution_count": 18,
   "id": "23a07d96-7f97-476a-95bf-21ecaa88015b",
   "metadata": {},
   "outputs": [],
   "source": [
    "# specify what columns are joined to name 'Sample_type'\n",
    "\n",
    "# sampletype_columns = ['Cell type', 'Plasmid type', 'Tag expression']\n",
    "sampletype_columns = ['Cell type', 'siRNA type']\n",
    "\n",
    "df['Sample_type'] = df[sampletype_columns].agg('_'.join, axis=1)"
   ]
  },
  {
   "cell_type": "markdown",
   "id": "7524913a-468a-46e5-9f39-ec494df62217",
   "metadata": {},
   "source": [
    "### **3. Exclude mitotic cells and nuclei with small area**"
   ]
  },
  {
   "cell_type": "markdown",
   "id": "7860aff1-3036-45fc-b9b2-1225cc54bd9a",
   "metadata": {},
   "source": [
    "#### **3-1. Mitotic cells**"
   ]
  },
  {
   "cell_type": "code",
   "execution_count": 19,
   "id": "db081cc0-8dfc-47c7-bfa4-d43ea92d679d",
   "metadata": {
    "collapsed": true,
    "jupyter": {
     "outputs_hidden": true
    },
    "tags": []
   },
   "outputs": [
    {
     "data": {
      "image/png": "[encoded data removed]",
      "text/plain": [
       "<Figure size 509.625x360 with 1 Axes>"
      ]
     },
     "metadata": {
      "needs_background": "light"
     },
     "output_type": "display_data"
    }
   ],
   "source": [
    "hist = sns.displot(data=df, x='DAPI mean', hue='Cell type', hue_order=['Control', 'CTDNEP1 KO'], binwidth=400)\n",
    "# plt.xlim([1000,4000])"
   ]
  },
  {
   "cell_type": "markdown",
   "id": "0300ccf8-0e72-44a0-9789-2a02f5f60776",
   "metadata": {},
   "source": [
    "#### **Remove cells with too hight DAPI intensity, which are likely mitotic cells**"
   ]
  },
  {
   "cell_type": "code",
   "execution_count": 20,
   "id": "e176dfac-38f0-46f9-aab5-52fa97fa5801",
   "metadata": {},
   "outputs": [],
   "source": [
    "max_DNA_intensity = 15000\n",
    "\n",
    "df = df[df['DAPI mean'] < max_DNA_intensity]"
   ]
  },
  {
   "cell_type": "markdown",
   "id": "9ffef0be-6036-4317-84ef-097666785ba1",
   "metadata": {},
   "source": [
    "#### **3-2. Nuclei with small area**"
   ]
  },
  {
   "cell_type": "code",
   "execution_count": 22,
   "id": "fd5f8717-a427-4913-b2d3-65d9590f8102",
   "metadata": {},
   "outputs": [],
   "source": [
    "min_area_of_roi = 60\n",
    "# max_area_of_roi = 200\n",
    "df = df[(df['Area'] > min_area_of_roi)]"
   ]
  },
  {
   "cell_type": "code",
   "execution_count": 23,
   "id": "a4c78702-708e-41ae-90c1-b48690deb171",
   "metadata": {
    "collapsed": true,
    "jupyter": {
     "outputs_hidden": true
    },
    "tags": []
   },
   "outputs": [
    {
     "name": "stdout",
     "output_type": "stream",
     "text": [
      "<class 'pandas.core.frame.DataFrame'>\n",
      "Int64Index: 765 entries, 0 to 14\n",
      "Data columns (total 15 columns):\n",
      " #   Column                Non-Null Count  Dtype  \n",
      "---  ------                --------------  -----  \n",
      " 0   ROI number            765 non-null    int64  \n",
      " 1   Area                  765 non-null    float64\n",
      " 2   Mean                  765 non-null    float64\n",
      " 3   Circ.                 765 non-null    float64\n",
      " 4   AR                    765 non-null    float64\n",
      " 5   Round                 765 non-null    float64\n",
      " 6   Solidity              765 non-null    float64\n",
      " 7   DAPI mean             765 non-null    float64\n",
      " 8   File name             765 non-null    object \n",
      " 9   Cell type             765 non-null    object \n",
      " 10  siRNA type            765 non-null    object \n",
      " 11  Image number          765 non-null    object \n",
      " 12  C3 mean - background  765 non-null    float64\n",
      " 13  C3-Back_normalized    765 non-null    float64\n",
      " 14  Sample_type           765 non-null    object \n",
      "dtypes: float64(9), int64(1), object(5)\n",
      "memory usage: 95.6+ KB\n"
     ]
    }
   ],
   "source": [
    "df.info()"
   ]
  },
  {
   "cell_type": "markdown",
   "id": "c00e9f54-b86a-44ef-a40b-59e244aeb0ef",
   "metadata": {},
   "source": [
    "### **4. Inspect the data**"
   ]
  },
  {
   "cell_type": "markdown",
   "id": "817d5d2f-9bd1-4ca2-963b-9d800929c5b6",
   "metadata": {},
   "source": [
    "#### **4-1. Check cell counts per sample**"
   ]
  },
  {
   "cell_type": "code",
   "execution_count": 30,
   "id": "b40570e1-6954-4928-a0d5-1aa227264546",
   "metadata": {},
   "outputs": [
    {
     "data": {
      "text/plain": [
       "Text(0.5, 1.0, 'Number of cells')"
      ]
     },
     "execution_count": 30,
     "metadata": {},
     "output_type": "execute_result"
    },
    {
     "data": {
      "image/png": "[encoded data removed]",
      "text/plain": [
       "<Figure size 432x288 with 1 Axes>"
      ]
     },
     "metadata": {
      "needs_background": "light"
     },
     "output_type": "display_data"
    }
   ],
   "source": [
    "fig = plt.figure()\n",
    "ax_count = fig.add_axes([0.1, 0.1, 0.8, 0.8])\n",
    "\n",
    "# ax_count = sns.countplot(data=df, x='Sample_type')\n",
    "# ax_count = sns.countplot(data=df, x='Plasmid type', order=['WT', 'DE'], hue='Tag expression', hue_order=['(-)', '(+)'], palette=my_pal)\n",
    "ax_count = sns.countplot(data=df, x='Cell type', order=['Control', 'CTDNEP1 KO'], \n",
    "                         hue='siRNA type', hue_order=['siCtrl', 'siCDS1', 'siCDS2', 'siPIS'], palette=my_pal)\n",
    "\n",
    "plt.legend(bbox_to_anchor=(1.05, 1), loc='upper left', borderaxespad=0)\n",
    "plt.title('Number of cells')\n",
    "# ax_count.set_xticklabels(labels=samples_order, rotation=45, ha='right')"
   ]
  },
  {
   "cell_type": "code",
   "execution_count": 31,
   "id": "76401e49-e50e-49d8-9b6c-3196e4110f73",
   "metadata": {},
   "outputs": [
    {
     "data": {
      "text/plain": [
       "Cell type   siRNA type\n",
       "CTDNEP1 KO  siCDS1         64\n",
       "            siCDS2         81\n",
       "            siCtrl         85\n",
       "            siPIS          86\n",
       "Control     siCDS1        100\n",
       "            siCDS2        112\n",
       "            siCtrl        123\n",
       "            siPIS         114\n",
       "dtype: int64"
      ]
     },
     "execution_count": 31,
     "metadata": {},
     "output_type": "execute_result"
    }
   ],
   "source": [
    "# df.groupby(['Plasmid type', 'Tag expression']).size()\n",
    "df.groupby(['Cell type', 'siRNA type']).size()"
   ]
  },
  {
   "cell_type": "markdown",
   "id": "b66f6591-e779-4223-8b6c-2131edd6bbb9",
   "metadata": {},
   "source": [
    "#### **4-3. C3 channel normalized intensity**"
   ]
  },
  {
   "cell_type": "code",
   "execution_count": 29,
   "id": "69bbd282-74ac-4473-b237-8361a8be2ed3",
   "metadata": {
    "tags": []
   },
   "outputs": [
    {
     "data": {
      "image/png": "[encoded data removed]",
      "text/plain": [
       "<Figure size 432x288 with 1 Axes>"
      ]
     },
     "metadata": {
      "needs_background": "light"
     },
     "output_type": "display_data"
    }
   ],
   "source": [
    "fig = plt.figure(figsize=(6,4))\n",
    "ax_box = fig.add_axes([0.1, 0.1, 0.8, 0.8])\n",
    "\n",
    "# For rescue experiments:\n",
    "# ax_box = sns.boxplot(data=df, x='Plasmid type', y='C3-Back_normalized', order=['WT', 'DE'], hue='Tag expression', hue_order=['(-)', '(+)'], palette=my_pal)\n",
    "# plt.legend(title='Flag expression', bbox_to_anchor=(1.05, 1), loc='upper left', borderaxespad=0)\n",
    "\n",
    "\n",
    "# For siRNA experiments:\n",
    "ax_box = sns.boxplot(data=df, x='Cell type', y='C3 mean - background', order=['Control', 'CTDNEP1 KO'], \n",
    "                     hue='siRNA type', hue_order=['siCtrl', 'siCDS1', 'siCDS2', 'siPIS'], palette=my_pal)\n",
    "plt.legend(title='siRNA', bbox_to_anchor=(1.05, 1), loc='upper left', borderaxespad=0)\n",
    "\n",
    "# Used in common:\n",
    "plt.title('Sun2 intensity in nucleus area')\n",
    "plt.ylabel('Relative intensity')\n",
    "ax_box.spines['top'].set_visible(False)\n",
    "ax_box.spines['right'].set_visible(False)"
   ]
  },
  {
   "cell_type": "code",
   "execution_count": 32,
   "id": "1d7eb92a-4d2d-4132-8326-58f260eeecca",
   "metadata": {},
   "outputs": [],
   "source": [
    "fig.savefig(directory + '/P-196_C3_intensity.pdf', bbox_inches='tight', transparent=True)"
   ]
  },
  {
   "cell_type": "markdown",
   "id": "07b7fbeb-8522-4305-b130-3d0db01bbab5",
   "metadata": {},
   "source": [
    "#### **Scatter plot (Tag vs C3)**"
   ]
  },
  {
   "cell_type": "code",
   "execution_count": 32,
   "id": "52132d3a-c84e-48b1-accc-1ea9dd9151b3",
   "metadata": {
    "collapsed": true,
    "jupyter": {
     "outputs_hidden": true
    },
    "tags": []
   },
   "outputs": [
    {
     "data": {
      "image/png": "[encoded data removed]",
      "text/plain": [
       "<Figure size 360x360 with 1 Axes>"
      ]
     },
     "metadata": {
      "needs_background": "light"
     },
     "output_type": "display_data"
    }
   ],
   "source": [
    "scatter = sns.lmplot(x='Tag mean', y='C3-Back_normalized', data=df[df['Tag expression']=='(+)'], hue='Plasmid type', hue_order=['WT', 'DE'], legend_out=False)"
   ]
  },
  {
   "cell_type": "code",
   "execution_count": 33,
   "id": "45b44803-8d42-4c90-ac27-ef1a37e08bec",
   "metadata": {},
   "outputs": [],
   "source": [
    "scatter.savefig(directory + '/Tag_vs_C3.jpg', bbox_inches='tight')"
   ]
  },
  {
   "cell_type": "markdown",
   "id": "1102c713-e855-4311-ae7f-9b4541b44728",
   "metadata": {},
   "source": [
    "#### **4-4. Tukey test**"
   ]
  },
  {
   "cell_type": "code",
   "execution_count": 33,
   "id": "71c34a6e-e55a-4345-bb7a-ac56e2d1c480",
   "metadata": {},
   "outputs": [],
   "source": [
    "res = pairwise_tukeyhsd(df['C3-Back_normalized'], df['Sample_type'], alpha=0.05)"
   ]
  },
  {
   "cell_type": "code",
   "execution_count": 34,
   "id": "471eb622-08c4-4629-8dde-983a7ecf88a5",
   "metadata": {},
   "outputs": [
    {
     "name": "stdout",
     "output_type": "stream",
     "text": [
      "           Multiple Comparison of Means - Tukey HSD, FWER=0.05            \n",
      "==========================================================================\n",
      "      group1            group2      meandiff p-adj   lower   upper  reject\n",
      "--------------------------------------------------------------------------\n",
      "CTDNEP1 KO_siCDS1 CTDNEP1 KO_siCDS2  -0.0678    0.9 -0.2676   0.132  False\n",
      "CTDNEP1 KO_siCDS1 CTDNEP1 KO_siCtrl  -0.0465    0.9 -0.2442  0.1513  False\n",
      "CTDNEP1 KO_siCDS1  CTDNEP1 KO_siPIS   0.0839    0.9 -0.1134  0.2811  False\n",
      "CTDNEP1 KO_siCDS1    Control_siCDS1   1.2579  0.001  1.0666  1.4492   True\n",
      "CTDNEP1 KO_siCDS1    Control_siCDS2   0.8275  0.001  0.6403  1.0147   True\n",
      "CTDNEP1 KO_siCDS1    Control_siCtrl   0.3647  0.001  0.1806  0.5489   True\n",
      "CTDNEP1 KO_siCDS1     Control_siPIS   0.5323  0.001  0.3457   0.719   True\n",
      "CTDNEP1 KO_siCDS2 CTDNEP1 KO_siCtrl   0.0213    0.9 -0.1642  0.2068  False\n",
      "CTDNEP1 KO_siCDS2  CTDNEP1 KO_siPIS   0.1517 0.2002 -0.0333  0.3367  False\n",
      "CTDNEP1 KO_siCDS2    Control_siCDS1   1.3257  0.001  1.1471  1.5043   True\n",
      "CTDNEP1 KO_siCDS2    Control_siCDS2   0.8953  0.001   0.721  1.0696   True\n",
      "CTDNEP1 KO_siCDS2    Control_siCtrl   0.4325  0.001  0.2615  0.6035   True\n",
      "CTDNEP1 KO_siCDS2     Control_siPIS   0.6001  0.001  0.4265  0.7738   True\n",
      "CTDNEP1 KO_siCtrl  CTDNEP1 KO_siPIS   0.1304 0.3736 -0.0524  0.3131  False\n",
      "CTDNEP1 KO_siCtrl    Control_siCDS1   1.3044  0.001  1.1281  1.4807   True\n",
      "CTDNEP1 KO_siCtrl    Control_siCDS2    0.874  0.001  0.7021  1.0459   True\n",
      "CTDNEP1 KO_siCtrl    Control_siCtrl   0.4112  0.001  0.2427  0.5798   True\n",
      "CTDNEP1 KO_siCtrl     Control_siPIS   0.5788  0.001  0.4076  0.7501   True\n",
      " CTDNEP1 KO_siPIS    Control_siCDS1    1.174  0.001  0.9983  1.3497   True\n",
      " CTDNEP1 KO_siPIS    Control_siCDS2   0.7436  0.001  0.5723  0.9149   True\n",
      " CTDNEP1 KO_siPIS    Control_siCtrl   0.2808  0.001  0.1129  0.4488   True\n",
      " CTDNEP1 KO_siPIS     Control_siPIS   0.4484  0.001  0.2778  0.6191   True\n",
      "   Control_siCDS1    Control_siCDS2  -0.4304  0.001 -0.5948  -0.266   True\n",
      "   Control_siCDS1    Control_siCtrl  -0.8932  0.001 -1.0541 -0.7323   True\n",
      "   Control_siCDS1     Control_siPIS  -0.7256  0.001 -0.8893 -0.5619   True\n",
      "   Control_siCDS2    Control_siCtrl  -0.4628  0.001 -0.6188 -0.3067   True\n",
      "   Control_siCDS2     Control_siPIS  -0.2951  0.001 -0.4541 -0.1362   True\n",
      "   Control_siCtrl     Control_siPIS   0.1676  0.024  0.0123   0.323   True\n",
      "--------------------------------------------------------------------------\n"
     ]
    }
   ],
   "source": [
    "print(res)"
   ]
  }
 ],
 "metadata": {
  "kernelspec": {
   "display_name": "Python 3",
   "language": "python",
   "name": "python3"
  },
  "language_info": {
   "codemirror_mode": {
    "name": "ipython",
    "version": 3
   },
   "file_extension": ".py",
   "mimetype": "text/x-python",
   "name": "python",
   "nbconvert_exporter": "python",
   "pygments_lexer": "ipython3",
   "version": "3.8.8"
  }
 },
 "nbformat": 4,
 "nbformat_minor": 5
}
